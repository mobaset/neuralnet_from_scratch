{
 "cells": [
  {
   "cell_type": "code",
   "execution_count": 1,
   "metadata": {},
   "outputs": [],
   "source": [
    "from utils import *\n",
    "import model"
   ]
  },
  {
   "cell_type": "code",
   "execution_count": 2,
   "metadata": {},
   "outputs": [],
   "source": [
    "path = \"./data/mnist.pkl.gz\""
   ]
  },
  {
   "cell_type": "code",
   "execution_count": 3,
   "metadata": {},
   "outputs": [],
   "source": [
    "training_data, validation_data, test_data = load_data_wrapper(path, 28*28, 10)"
   ]
  },
  {
   "cell_type": "code",
   "execution_count": 4,
   "metadata": {},
   "outputs": [],
   "source": [
    "nn = model.NeuralNet([784, 30, 10], 'sigmoid')"
   ]
  },
  {
   "cell_type": "code",
   "execution_count": 5,
   "metadata": {},
   "outputs": [
    {
     "name": "stdout",
     "output_type": "stream",
     "text": [
      "Epoch 0: 9042 / 10000\n",
      "Epoch 1: 9285 / 10000\n",
      "Epoch 2: 9324 / 10000\n",
      "Epoch 3: 9402 / 10000\n",
      "Epoch 4: 9436 / 10000\n",
      "Epoch 5: 9436 / 10000\n",
      "Epoch 6: 9448 / 10000\n",
      "Epoch 7: 9477 / 10000\n",
      "Epoch 8: 9496 / 10000\n",
      "Epoch 9: 9470 / 10000\n",
      "Epoch 10: 9490 / 10000\n",
      "Epoch 11: 9458 / 10000\n",
      "Epoch 12: 9509 / 10000\n",
      "Epoch 13: 9524 / 10000\n",
      "Epoch 14: 9504 / 10000\n",
      "Epoch 15: 9514 / 10000\n",
      "Epoch 16: 9506 / 10000\n",
      "Epoch 17: 9500 / 10000\n",
      "Epoch 18: 9497 / 10000\n",
      "Epoch 19: 9519 / 10000\n",
      "Epoch 20: 9543 / 10000\n",
      "Epoch 21: 9518 / 10000\n",
      "Epoch 22: 9528 / 10000\n",
      "Epoch 23: 9509 / 10000\n",
      "Epoch 24: 9532 / 10000\n",
      "Epoch 25: 9520 / 10000\n",
      "Epoch 26: 9531 / 10000\n",
      "Epoch 27: 9539 / 10000\n",
      "Epoch 28: 9527 / 10000\n",
      "Epoch 29: 9538 / 10000\n"
     ]
    }
   ],
   "source": [
    "nn.SGD(training_data, epochs=30, mini_batch_size=10, learning_rate=3, cost_func=None, test_data=validation_data)"
   ]
  },
  {
   "cell_type": "code",
   "execution_count": null,
   "metadata": {},
   "outputs": [],
   "source": []
  }
 ],
 "metadata": {
  "kernelspec": {
   "display_name": "Python 3",
   "language": "python",
   "name": "python3"
  },
  "language_info": {
   "codemirror_mode": {
    "name": "ipython",
    "version": 3
   },
   "file_extension": ".py",
   "mimetype": "text/x-python",
   "name": "python",
   "nbconvert_exporter": "python",
   "pygments_lexer": "ipython3",
   "version": "3.6.4"
  }
 },
 "nbformat": 4,
 "nbformat_minor": 2
}
