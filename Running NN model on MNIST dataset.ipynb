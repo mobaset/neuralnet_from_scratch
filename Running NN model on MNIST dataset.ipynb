{
 "cells": [
  {
   "cell_type": "code",
   "execution_count": 1,
   "metadata": {},
   "outputs": [],
   "source": [
    "from utils import *\n",
    "import model"
   ]
  },
  {
   "cell_type": "code",
   "execution_count": 2,
   "metadata": {},
   "outputs": [],
   "source": [
    "path = \"./data/mnist.pkl.gz\""
   ]
  },
  {
   "cell_type": "code",
   "execution_count": 3,
   "metadata": {},
   "outputs": [],
   "source": [
    "training_data, validation_data, test_data = load_data_wrapper(path, 28*28, 10)"
   ]
  },
  {
   "cell_type": "code",
   "execution_count": 4,
   "metadata": {},
   "outputs": [],
   "source": [
    "nn = model.NeuralNet([784, 30, 20, 10], 'sigmoid')"
   ]
  },
  {
   "cell_type": "code",
   "execution_count": 5,
   "metadata": {},
   "outputs": [
    {
     "name": "stdout",
     "output_type": "stream",
     "text": [
      "Epoch 0: 9140 / 10000 | Completed in 9.233419179916382 seconds\n",
      "Epoch 1: 9294 / 10000 | Completed in 9.464999198913574 seconds\n",
      "Epoch 2: 9341 / 10000 | Completed in 10.438999891281128 seconds\n",
      "Epoch 3: 9364 / 10000 | Completed in 10.578468799591064 seconds\n",
      "Epoch 4: 9454 / 10000 | Completed in 9.257999420166016 seconds\n",
      "Epoch 5: 9455 / 10000 | Completed in 9.187001705169678 seconds\n",
      "Epoch 6: 9486 / 10000 | Completed in 9.40473222732544 seconds\n",
      "Epoch 7: 9516 / 10000 | Completed in 9.722134590148926 seconds\n",
      "Epoch 8: 9514 / 10000 | Completed in 10.29282832145691 seconds\n",
      "Epoch 9: 9473 / 10000 | Completed in 10.416377782821655 seconds\n",
      "Epoch 10: 9478 / 10000 | Completed in 10.934069633483887 seconds\n",
      "Epoch 11: 9492 / 10000 | Completed in 10.415518283843994 seconds\n",
      "Epoch 12: 9529 / 10000 | Completed in 11.21099591255188 seconds\n",
      "Epoch 13: 9518 / 10000 | Completed in 9.823525428771973 seconds\n",
      "Epoch 14: 9531 / 10000 | Completed in 10.743170499801636 seconds\n",
      "Epoch 15: 9535 / 10000 | Completed in 10.316000938415527 seconds\n",
      "Epoch 16: 9499 / 10000 | Completed in 10.281002521514893 seconds\n",
      "Epoch 17: 9464 / 10000 | Completed in 10.334001541137695 seconds\n",
      "Epoch 18: 9543 / 10000 | Completed in 11.100000619888306 seconds\n",
      "Epoch 19: 9522 / 10000 | Completed in 10.438758373260498 seconds\n",
      "Epoch 20: 9533 / 10000 | Completed in 10.757466793060303 seconds\n",
      "Epoch 21: 9533 / 10000 | Completed in 10.980603218078613 seconds\n",
      "Epoch 22: 9545 / 10000 | Completed in 10.500009775161743 seconds\n",
      "Epoch 23: 9534 / 10000 | Completed in 9.531011581420898 seconds\n",
      "Epoch 24: 9507 / 10000 | Completed in 9.573999643325806 seconds\n",
      "Epoch 25: 9547 / 10000 | Completed in 9.805518865585327 seconds\n",
      "Epoch 26: 9515 / 10000 | Completed in 10.214505195617676 seconds\n",
      "Epoch 27: 9529 / 10000 | Completed in 10.204920768737793 seconds\n",
      "Epoch 28: 9494 / 10000 | Completed in 10.523499011993408 seconds\n",
      "Epoch 29: 9532 / 10000 | Completed in 9.715997695922852 seconds\n"
     ]
    }
   ],
   "source": [
    "nn.SGD(training_data, epochs=30, mini_batch_size=10, learning_rate=3, cost_func=None, test_data=validation_data)"
   ]
  },
  {
   "cell_type": "code",
   "execution_count": null,
   "metadata": {},
   "outputs": [],
   "source": []
  }
 ],
 "metadata": {
  "kernelspec": {
   "display_name": "Python 3",
   "language": "python",
   "name": "python3"
  },
  "language_info": {
   "codemirror_mode": {
    "name": "ipython",
    "version": 3
   },
   "file_extension": ".py",
   "mimetype": "text/x-python",
   "name": "python",
   "nbconvert_exporter": "python",
   "pygments_lexer": "ipython3",
   "version": "3.6.4"
  }
 },
 "nbformat": 4,
 "nbformat_minor": 2
}
